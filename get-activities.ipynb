{
 "cells": [
  {
   "cell_type": "markdown",
   "metadata": {},
   "source": [
    "# Get Activities of Note\n",
    "Get days with more intense activities over the past 100 days. The purpose of this is to identify days worth studying the heart rate data from"
   ]
  },
  {
   "cell_type": "code",
   "execution_count": 80,
   "metadata": {
    "collapsed": true
   },
   "outputs": [],
   "source": [
    "from tqdm import tqdm_notebook as tqdm\n",
    "from time import sleep\n",
    "import pandas as pd\n",
    "import datetime as dt\n",
    "import json\n",
    "import fitbit\n",
    "import os"
   ]
  },
  {
   "cell_type": "markdown",
   "metadata": {},
   "source": [
    "Load the Fitbit client"
   ]
  },
  {
   "cell_type": "code",
   "execution_count": 17,
   "metadata": {},
   "outputs": [],
   "source": [
    "fb_client = fitbit.Fitbit(**json.load(open('client-data.json')))"
   ]
  },
  {
   "cell_type": "markdown",
   "metadata": {},
   "source": [
    "## Load in the Activities\n",
    "Get recent logged activities using [Fitbit's API](https://dev.fitbit.com/reference/web-api/activity/#get-activity-logs-list)"
   ]
  },
  {
   "cell_type": "code",
   "execution_count": 18,
   "metadata": {},
   "outputs": [],
   "source": [
    "reply = fb_client.make_request(\"https://api.fitbit.com/1/user/-/activities/list.json?afterDate=2017-07-14&offset=0&limit=20&sort=desc\")"
   ]
  },
  {
   "cell_type": "markdown",
   "metadata": {},
   "source": [
    "Load in all of the days"
   ]
  },
  {
   "cell_type": "code",
   "execution_count": 88,
   "metadata": {
    "collapsed": true
   },
   "outputs": [],
   "source": [
    "def get_all_activities(previous_days=200, minimum_length=15):\n",
    "    \"\"\"Get all recent activities of note\n",
    "    \n",
    "    :param previous_days: int, number of days before today to study\n",
    "    :param minimum_length: int, minimum minutes for activity for it to count\n",
    "    :return: all relevant activities\"\"\"\n",
    "    \n",
    "    # Determine start date\n",
    "    start_date = (dt.date.today() - dt.timedelta(previous_days)).strftime('%Y-%m-%d')\n",
    "    \n",
    "    # Collect all activities\n",
    "    activities = []\n",
    "    url = \"https://api.fitbit.com/1/user/-/activities/list.json?afterDate=%s&offset=0&limit=20&sort=desc\"%start_date\n",
    "    while len(url) > 0:\n",
    "        failures = 0\n",
    "        try:\n",
    "            reply = fb_client.make_request(url)\n",
    "        except:\n",
    "            failures += 1\n",
    "            if failures > 5:\n",
    "                raise\n",
    "            sleep(1) # Sometimes it does not work\n",
    "            continue\n",
    "        activities += reply['activities']\n",
    "        url = reply['pagination']['next']\n",
    "        \n",
    "    # Get the longer ones\n",
    "    good_acts = []\n",
    "    for activity in activities:\n",
    "        if not 'heartRateZones' in activity:\n",
    "            continue # Some do not have HR monitoring\n",
    "        length = pd.DataFrame(activity['heartRateZones']).loc[1:, 'minutes'].sum()\n",
    "        if length > minimum_length:\n",
    "            good_acts.append(activity)\n",
    "        \n",
    "    return good_acts"
   ]
  },
  {
   "cell_type": "code",
   "execution_count": 89,
   "metadata": {},
   "outputs": [
    {
     "name": "stdout",
     "output_type": "stream",
     "text": [
      "Found 145 activities\n"
     ]
    }
   ],
   "source": [
    "activities = get_all_activities()\n",
    "print('Found %d activities'%len(activities))"
   ]
  },
  {
   "cell_type": "markdown",
   "metadata": {},
   "source": [
    "## Save the Unique Dates\n",
    "Find all days with a relevant activity"
   ]
  },
  {
   "cell_type": "code",
   "execution_count": 90,
   "metadata": {},
   "outputs": [
    {
     "name": "stdout",
     "output_type": "stream",
     "text": [
      "Found 91 unique dates\n"
     ]
    }
   ],
   "source": [
    "dates = sorted(set([a['startTime'][:10] for a in activities]))\n",
    "print('Found %d unique dates'%len(dates))"
   ]
  },
  {
   "cell_type": "code",
   "execution_count": 91,
   "metadata": {},
   "outputs": [],
   "source": [
    "json.dump(dates, open(os.path.join('data', 'activity-dates.json'), 'w'))"
   ]
  },
  {
   "cell_type": "code",
   "execution_count": null,
   "metadata": {
    "collapsed": true
   },
   "outputs": [],
   "source": []
  }
 ],
 "metadata": {
  "kernelspec": {
   "display_name": "Python 3",
   "language": "python",
   "name": "python3"
  },
  "language_info": {
   "codemirror_mode": {
    "name": "ipython",
    "version": 3
   },
   "file_extension": ".py",
   "mimetype": "text/x-python",
   "name": "python",
   "nbconvert_exporter": "python",
   "pygments_lexer": "ipython3",
   "version": "3.6.0"
  }
 },
 "nbformat": 4,
 "nbformat_minor": 2
}
